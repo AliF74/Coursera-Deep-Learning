{
  "cells": [
    {
      "cell_type": "markdown",
      "metadata": {
        "id": "view-in-github",
        "colab_type": "text"
      },
      "source": [
        "<a href=\"https://colab.research.google.com/github/AliF74/Coursera-Deep-Learning/blob/master/Convolution_model_Application.ipynb\" target=\"_parent\"><img src=\"https://colab.research.google.com/assets/colab-badge.svg\" alt=\"Open In Colab\"/></a>"
      ]
    },
    {
      "cell_type": "markdown",
      "metadata": {
        "id": "elhxlmLf-4sL"
      },
      "source": [
        "# Convolutional Neural Networks: Application\n",
        "\n",
        "Welcome to Course 4's second assignment! In this notebook, you will:\n",
        "\n",
        "- Create a mood classifer using the TF Keras Sequential API\n",
        "- Build a ConvNet to identify sign language digits using the TF Keras Functional API\n",
        "\n",
        "**After this assignment you will be able to:**\n",
        "\n",
        "- Build and train a ConvNet in TensorFlow for a __binary__ classification problem\n",
        "- Build and train a ConvNet in TensorFlow for a __multiclass__ classification problem\n",
        "- Explain different use cases for the Sequential and Functional APIs\n",
        "\n",
        "To complete this assignment, you should already be familiar with TensorFlow. If you are not, please refer back to the **TensorFlow Tutorial** of the third week of Course 2 (\"**Improving deep neural networks**\").\n",
        "\n",
        "## Important Note on Submission to the AutoGrader\n",
        "\n",
        "Before submitting your assignment to the AutoGrader, please make sure you are not doing the following:\n",
        "\n",
        "1. You have not added any _extra_ `print` statement(s) in the assignment.\n",
        "2. You have not added any _extra_ code cell(s) in the assignment.\n",
        "3. You have not changed any of the function parameters.\n",
        "4. You are not using any global variables inside your graded exercises. Unless specifically instructed to do so, please refrain from it and use the local variables instead.\n",
        "5. You are not changing the assignment code where it is not required, like creating _extra_ variables.\n",
        "\n",
        "If you do any of the following, you will get something like, `Grader not found` (or similarly unexpected) error upon submitting your assignment. Before asking for help/debugging the errors in your assignment, check for these first. If this is the case, and you don't remember the changes you have made, you can get a fresh copy of the assignment by following these [instructions](https://www.coursera.org/learn/convolutional-neural-networks/supplement/DS4yP/h-ow-to-refresh-your-workspace)."
      ]
    },
    {
      "cell_type": "code",
      "source": [
        "from google.colab import drive\n",
        "drive.mount('/content/gdrive')\n",
        "%cd /gdrive"
      ],
      "metadata": {
        "colab": {
          "base_uri": "https://localhost:8080/"
        },
        "id": "116KbTJhoydf",
        "outputId": "30efcff5-7fb6-4c07-b00e-786e15f63ced"
      },
      "execution_count": 1,
      "outputs": [
        {
          "output_type": "stream",
          "name": "stdout",
          "text": [
            "Mounted at /content/gdrive\n",
            "[Errno 2] No such file or directory: '/gdrive'\n",
            "/content\n"
          ]
        }
      ]
    },
    {
      "cell_type": "markdown",
      "metadata": {
        "id": "lhtVGaoU-4sT"
      },
      "source": [
        "## Table of Contents\n",
        "\n",
        "- [1 - Packages](#1)\n",
        "    - [1.1 - Load the Data and Split the Data into Train/Test Sets](#1-1)\n",
        "- [2 - Layers in TF Keras](#2)\n",
        "- [3 - The Sequential API](#3)\n",
        "    - [3.1 - Create the Sequential Model](#3-1)\n",
        "        - [Exercise 1 - happyModel](#ex-1)\n",
        "    - [3.2 - Train and Evaluate the Model](#3-2)\n",
        "- [4 - The Functional API](#4)\n",
        "    - [4.1 - Load the SIGNS Dataset](#4-1)\n",
        "    - [4.2 - Split the Data into Train/Test Sets](#4-2)\n",
        "    - [4.3 - Forward Propagation](#4-3)\n",
        "        - [Exercise 2 - convolutional_model](#ex-2)\n",
        "    - [4.4 - Train the Model](#4-4)\n",
        "- [5 - History Object](#5)\n",
        "- [6 - Bibliography](#6)"
      ]
    },
    {
      "cell_type": "markdown",
      "metadata": {
        "id": "oIMJVQmS-4sU"
      },
      "source": [
        "<a name='1'></a>\n",
        "## 1 - Packages\n",
        "\n",
        "As usual, begin by loading in the packages."
      ]
    },
    {
      "cell_type": "code",
      "execution_count": 4,
      "metadata": {
        "id": "0OQiblS8-4sV"
      },
      "outputs": [],
      "source": [
        "import math\n",
        "import numpy as np\n",
        "import h5py\n",
        "import matplotlib.pyplot as plt\n",
        "from matplotlib.pyplot import imread\n",
        "import scipy\n",
        "from PIL import Image\n",
        "import pandas as pd\n",
        "import tensorflow as tf\n",
        "import tensorflow.keras.layers as tfl\n",
        "from tensorflow.python.framework import ops\n",
        "from cnn_utils import *\n",
        "from test_utils import summary, comparator\n",
        "\n",
        "%matplotlib inline\n",
        "np.random.seed(1)"
      ]
    },
    {
      "cell_type": "code",
      "source": [
        "def load_happy_dataset():\n",
        "    train_dataset = h5py.File('train_happy.h5', \"r\")\n",
        "    train_set_x_orig = np.array(train_dataset[\"train_set_x\"][:]) # your train set features\n",
        "    train_set_y_orig = np.array(train_dataset[\"train_set_y\"][:]) # your train set labels\n",
        "\n",
        "    test_dataset = h5py.File('test_happy.h5', \"r\")\n",
        "    test_set_x_orig = np.array(test_dataset[\"test_set_x\"][:]) # your test set features\n",
        "    test_set_y_orig = np.array(test_dataset[\"test_set_y\"][:]) # your test set labels\n",
        "\n",
        "    classes = np.array(test_dataset[\"list_classes\"][:]) # the list of classes\n",
        "    \n",
        "    train_set_y_orig = train_set_y_orig.reshape((1, train_set_y_orig.shape[0]))\n",
        "    test_set_y_orig = test_set_y_orig.reshape((1, test_set_y_orig.shape[0]))\n",
        "    \n",
        "    return train_set_x_orig, train_set_y_orig, test_set_x_orig, test_set_y_orig, classes"
      ],
      "metadata": {
        "id": "5SstGF8JCkU5"
      },
      "execution_count": 5,
      "outputs": []
    },
    {
      "cell_type": "code",
      "source": [
        "train_dataset = h5py.File('train_happy.h5', \"r\")\n",
        "train_dataset[\"train_set_x\"].shape"
      ],
      "metadata": {
        "colab": {
          "base_uri": "https://localhost:8080/",
          "height": 449
        },
        "id": "XUKSNQRlE-hh",
        "outputId": "c0f5d82c-fe03-4829-f060-a58872dcc25c"
      },
      "execution_count": 6,
      "outputs": [
        {
          "output_type": "error",
          "ename": "OSError",
          "evalue": "ignored",
          "traceback": [
            "\u001b[0;31m---------------------------------------------------------------------------\u001b[0m",
            "\u001b[0;31mOSError\u001b[0m                                   Traceback (most recent call last)",
            "\u001b[0;32m<ipython-input-6-46e548c6771f>\u001b[0m in \u001b[0;36m<module>\u001b[0;34m\u001b[0m\n\u001b[0;32m----> 1\u001b[0;31m \u001b[0mtrain_dataset\u001b[0m \u001b[0;34m=\u001b[0m \u001b[0mh5py\u001b[0m\u001b[0;34m.\u001b[0m\u001b[0mFile\u001b[0m\u001b[0;34m(\u001b[0m\u001b[0;34m'train_happy.h5'\u001b[0m\u001b[0;34m,\u001b[0m \u001b[0;34m\"r\"\u001b[0m\u001b[0;34m)\u001b[0m\u001b[0;34m\u001b[0m\u001b[0;34m\u001b[0m\u001b[0m\n\u001b[0m\u001b[1;32m      2\u001b[0m \u001b[0mtrain_dataset\u001b[0m\u001b[0;34m[\u001b[0m\u001b[0;34m\"train_set_x\"\u001b[0m\u001b[0;34m]\u001b[0m\u001b[0;34m.\u001b[0m\u001b[0mshape\u001b[0m\u001b[0;34m\u001b[0m\u001b[0;34m\u001b[0m\u001b[0m\n",
            "\u001b[0;32m/usr/local/lib/python3.8/dist-packages/h5py/_hl/files.py\u001b[0m in \u001b[0;36m__init__\u001b[0;34m(self, name, mode, driver, libver, userblock_size, swmr, rdcc_nslots, rdcc_nbytes, rdcc_w0, track_order, fs_strategy, fs_persist, fs_threshold, **kwds)\u001b[0m\n\u001b[1;32m    422\u001b[0m             \u001b[0;32mwith\u001b[0m \u001b[0mphil\u001b[0m\u001b[0;34m:\u001b[0m\u001b[0;34m\u001b[0m\u001b[0;34m\u001b[0m\u001b[0m\n\u001b[1;32m    423\u001b[0m                 \u001b[0mfapl\u001b[0m \u001b[0;34m=\u001b[0m \u001b[0mmake_fapl\u001b[0m\u001b[0;34m(\u001b[0m\u001b[0mdriver\u001b[0m\u001b[0;34m,\u001b[0m \u001b[0mlibver\u001b[0m\u001b[0;34m,\u001b[0m \u001b[0mrdcc_nslots\u001b[0m\u001b[0;34m,\u001b[0m \u001b[0mrdcc_nbytes\u001b[0m\u001b[0;34m,\u001b[0m \u001b[0mrdcc_w0\u001b[0m\u001b[0;34m,\u001b[0m \u001b[0;34m**\u001b[0m\u001b[0mkwds\u001b[0m\u001b[0;34m)\u001b[0m\u001b[0;34m\u001b[0m\u001b[0;34m\u001b[0m\u001b[0m\n\u001b[0;32m--> 424\u001b[0;31m                 fid = make_fid(name, mode, userblock_size,\n\u001b[0m\u001b[1;32m    425\u001b[0m                                fapl, fcpl=make_fcpl(track_order=track_order, fs_strategy=fs_strategy,\n\u001b[1;32m    426\u001b[0m                                fs_persist=fs_persist, fs_threshold=fs_threshold),\n",
            "\u001b[0;32m/usr/local/lib/python3.8/dist-packages/h5py/_hl/files.py\u001b[0m in \u001b[0;36mmake_fid\u001b[0;34m(name, mode, userblock_size, fapl, fcpl, swmr)\u001b[0m\n\u001b[1;32m    188\u001b[0m         \u001b[0;32mif\u001b[0m \u001b[0mswmr\u001b[0m \u001b[0;32mand\u001b[0m \u001b[0mswmr_support\u001b[0m\u001b[0;34m:\u001b[0m\u001b[0;34m\u001b[0m\u001b[0;34m\u001b[0m\u001b[0m\n\u001b[1;32m    189\u001b[0m             \u001b[0mflags\u001b[0m \u001b[0;34m|=\u001b[0m \u001b[0mh5f\u001b[0m\u001b[0;34m.\u001b[0m\u001b[0mACC_SWMR_READ\u001b[0m\u001b[0;34m\u001b[0m\u001b[0;34m\u001b[0m\u001b[0m\n\u001b[0;32m--> 190\u001b[0;31m         \u001b[0mfid\u001b[0m \u001b[0;34m=\u001b[0m \u001b[0mh5f\u001b[0m\u001b[0;34m.\u001b[0m\u001b[0mopen\u001b[0m\u001b[0;34m(\u001b[0m\u001b[0mname\u001b[0m\u001b[0;34m,\u001b[0m \u001b[0mflags\u001b[0m\u001b[0;34m,\u001b[0m \u001b[0mfapl\u001b[0m\u001b[0;34m=\u001b[0m\u001b[0mfapl\u001b[0m\u001b[0;34m)\u001b[0m\u001b[0;34m\u001b[0m\u001b[0;34m\u001b[0m\u001b[0m\n\u001b[0m\u001b[1;32m    191\u001b[0m     \u001b[0;32melif\u001b[0m \u001b[0mmode\u001b[0m \u001b[0;34m==\u001b[0m \u001b[0;34m'r+'\u001b[0m\u001b[0;34m:\u001b[0m\u001b[0;34m\u001b[0m\u001b[0;34m\u001b[0m\u001b[0m\n\u001b[1;32m    192\u001b[0m         \u001b[0mfid\u001b[0m \u001b[0;34m=\u001b[0m \u001b[0mh5f\u001b[0m\u001b[0;34m.\u001b[0m\u001b[0mopen\u001b[0m\u001b[0;34m(\u001b[0m\u001b[0mname\u001b[0m\u001b[0;34m,\u001b[0m \u001b[0mh5f\u001b[0m\u001b[0;34m.\u001b[0m\u001b[0mACC_RDWR\u001b[0m\u001b[0;34m,\u001b[0m \u001b[0mfapl\u001b[0m\u001b[0;34m=\u001b[0m\u001b[0mfapl\u001b[0m\u001b[0;34m)\u001b[0m\u001b[0;34m\u001b[0m\u001b[0;34m\u001b[0m\u001b[0m\n",
            "\u001b[0;32mh5py/_objects.pyx\u001b[0m in \u001b[0;36mh5py._objects.with_phil.wrapper\u001b[0;34m()\u001b[0m\n",
            "\u001b[0;32mh5py/_objects.pyx\u001b[0m in \u001b[0;36mh5py._objects.with_phil.wrapper\u001b[0;34m()\u001b[0m\n",
            "\u001b[0;32mh5py/h5f.pyx\u001b[0m in \u001b[0;36mh5py.h5f.open\u001b[0;34m()\u001b[0m\n",
            "\u001b[0;31mOSError\u001b[0m: Unable to open file (unable to open file: name = 'train_happy.h5', errno = 2, error message = 'No such file or directory', flags = 0, o_flags = 0)"
          ]
        }
      ]
    },
    {
      "cell_type": "markdown",
      "metadata": {
        "id": "CPHqv04n-4sW"
      },
      "source": [
        "<a name='1-1'></a>\n",
        "### 1.1 - Load the Data and Split the Data into Train/Test Sets\n",
        "\n",
        "You'll be using the Happy House dataset for this part of the assignment, which contains images of peoples' faces. Your task will be to build a ConvNet that determines whether the people in the images are smiling or not -- because they only get to enter the house if they're smiling!  "
      ]
    },
    {
      "cell_type": "code",
      "execution_count": null,
      "metadata": {
        "id": "XYtiAKm3-4sX",
        "outputId": "20b4edd7-0739-4e4e-faad-66bcde4bd26c",
        "colab": {
          "base_uri": "https://localhost:8080/",
          "height": 501
        }
      },
      "outputs": [
        {
          "output_type": "error",
          "ename": "OSError",
          "evalue": "ignored",
          "traceback": [
            "\u001b[0;31m---------------------------------------------------------------------------\u001b[0m",
            "\u001b[0;31mOSError\u001b[0m                                   Traceback (most recent call last)",
            "\u001b[0;32m<ipython-input-6-2ca64dcfd5f2>\u001b[0m in \u001b[0;36m<module>\u001b[0;34m()\u001b[0m\n\u001b[0;32m----> 1\u001b[0;31m \u001b[0mX_train_orig\u001b[0m\u001b[0;34m,\u001b[0m \u001b[0mY_train_orig\u001b[0m\u001b[0;34m,\u001b[0m \u001b[0mX_test_orig\u001b[0m\u001b[0;34m,\u001b[0m \u001b[0mY_test_orig\u001b[0m\u001b[0;34m,\u001b[0m \u001b[0mclasses\u001b[0m \u001b[0;34m=\u001b[0m \u001b[0mload_happy_dataset\u001b[0m\u001b[0;34m(\u001b[0m\u001b[0;34m)\u001b[0m\u001b[0;34m\u001b[0m\u001b[0;34m\u001b[0m\u001b[0m\n\u001b[0m\u001b[1;32m      2\u001b[0m \u001b[0;34m\u001b[0m\u001b[0m\n\u001b[1;32m      3\u001b[0m \u001b[0;31m# Normalize image vectors\u001b[0m\u001b[0;34m\u001b[0m\u001b[0;34m\u001b[0m\u001b[0;34m\u001b[0m\u001b[0m\n\u001b[1;32m      4\u001b[0m \u001b[0mX_train\u001b[0m \u001b[0;34m=\u001b[0m \u001b[0mX_train_orig\u001b[0m\u001b[0;34m/\u001b[0m\u001b[0;36m255.\u001b[0m\u001b[0;34m\u001b[0m\u001b[0;34m\u001b[0m\u001b[0m\n\u001b[1;32m      5\u001b[0m \u001b[0mX_test\u001b[0m \u001b[0;34m=\u001b[0m \u001b[0mX_test_orig\u001b[0m\u001b[0;34m/\u001b[0m\u001b[0;36m255.\u001b[0m\u001b[0;34m\u001b[0m\u001b[0;34m\u001b[0m\u001b[0m\n",
            "\u001b[0;32m<ipython-input-4-b45f150c8b8e>\u001b[0m in \u001b[0;36mload_happy_dataset\u001b[0;34m()\u001b[0m\n\u001b[1;32m      1\u001b[0m \u001b[0;32mdef\u001b[0m \u001b[0mload_happy_dataset\u001b[0m\u001b[0;34m(\u001b[0m\u001b[0;34m)\u001b[0m\u001b[0;34m:\u001b[0m\u001b[0;34m\u001b[0m\u001b[0;34m\u001b[0m\u001b[0m\n\u001b[0;32m----> 2\u001b[0;31m     \u001b[0mtrain_dataset\u001b[0m \u001b[0;34m=\u001b[0m \u001b[0mh5py\u001b[0m\u001b[0;34m.\u001b[0m\u001b[0mFile\u001b[0m\u001b[0;34m(\u001b[0m\u001b[0;34m'train_happy.h5'\u001b[0m\u001b[0;34m,\u001b[0m \u001b[0;34m\"r\"\u001b[0m\u001b[0;34m)\u001b[0m\u001b[0;34m\u001b[0m\u001b[0;34m\u001b[0m\u001b[0m\n\u001b[0m\u001b[1;32m      3\u001b[0m     \u001b[0mtrain_set_x_orig\u001b[0m \u001b[0;34m=\u001b[0m \u001b[0mnp\u001b[0m\u001b[0;34m.\u001b[0m\u001b[0marray\u001b[0m\u001b[0;34m(\u001b[0m\u001b[0mtrain_dataset\u001b[0m\u001b[0;34m[\u001b[0m\u001b[0;34m\"train_set_x\"\u001b[0m\u001b[0;34m]\u001b[0m\u001b[0;34m[\u001b[0m\u001b[0;34m:\u001b[0m\u001b[0;34m]\u001b[0m\u001b[0;34m)\u001b[0m \u001b[0;31m# your train set features\u001b[0m\u001b[0;34m\u001b[0m\u001b[0;34m\u001b[0m\u001b[0m\n\u001b[1;32m      4\u001b[0m     \u001b[0mtrain_set_y_orig\u001b[0m \u001b[0;34m=\u001b[0m \u001b[0mnp\u001b[0m\u001b[0;34m.\u001b[0m\u001b[0marray\u001b[0m\u001b[0;34m(\u001b[0m\u001b[0mtrain_dataset\u001b[0m\u001b[0;34m[\u001b[0m\u001b[0;34m\"train_set_y\"\u001b[0m\u001b[0;34m]\u001b[0m\u001b[0;34m[\u001b[0m\u001b[0;34m:\u001b[0m\u001b[0;34m]\u001b[0m\u001b[0;34m)\u001b[0m \u001b[0;31m# your train set labels\u001b[0m\u001b[0;34m\u001b[0m\u001b[0;34m\u001b[0m\u001b[0m\n\u001b[1;32m      5\u001b[0m \u001b[0;34m\u001b[0m\u001b[0m\n",
            "\u001b[0;32m/usr/local/lib/python3.7/dist-packages/h5py/_hl/files.py\u001b[0m in \u001b[0;36m__init__\u001b[0;34m(self, name, mode, driver, libver, userblock_size, swmr, rdcc_nslots, rdcc_nbytes, rdcc_w0, track_order, fs_strategy, fs_persist, fs_threshold, **kwds)\u001b[0m\n\u001b[1;32m    425\u001b[0m                                fapl, fcpl=make_fcpl(track_order=track_order, fs_strategy=fs_strategy,\n\u001b[1;32m    426\u001b[0m                                fs_persist=fs_persist, fs_threshold=fs_threshold),\n\u001b[0;32m--> 427\u001b[0;31m                                swmr=swmr)\n\u001b[0m\u001b[1;32m    428\u001b[0m \u001b[0;34m\u001b[0m\u001b[0m\n\u001b[1;32m    429\u001b[0m             \u001b[0;32mif\u001b[0m \u001b[0misinstance\u001b[0m\u001b[0;34m(\u001b[0m\u001b[0mlibver\u001b[0m\u001b[0;34m,\u001b[0m \u001b[0mtuple\u001b[0m\u001b[0;34m)\u001b[0m\u001b[0;34m:\u001b[0m\u001b[0;34m\u001b[0m\u001b[0;34m\u001b[0m\u001b[0m\n",
            "\u001b[0;32m/usr/local/lib/python3.7/dist-packages/h5py/_hl/files.py\u001b[0m in \u001b[0;36mmake_fid\u001b[0;34m(name, mode, userblock_size, fapl, fcpl, swmr)\u001b[0m\n\u001b[1;32m    188\u001b[0m         \u001b[0;32mif\u001b[0m \u001b[0mswmr\u001b[0m \u001b[0;32mand\u001b[0m \u001b[0mswmr_support\u001b[0m\u001b[0;34m:\u001b[0m\u001b[0;34m\u001b[0m\u001b[0;34m\u001b[0m\u001b[0m\n\u001b[1;32m    189\u001b[0m             \u001b[0mflags\u001b[0m \u001b[0;34m|=\u001b[0m \u001b[0mh5f\u001b[0m\u001b[0;34m.\u001b[0m\u001b[0mACC_SWMR_READ\u001b[0m\u001b[0;34m\u001b[0m\u001b[0;34m\u001b[0m\u001b[0m\n\u001b[0;32m--> 190\u001b[0;31m         \u001b[0mfid\u001b[0m \u001b[0;34m=\u001b[0m \u001b[0mh5f\u001b[0m\u001b[0;34m.\u001b[0m\u001b[0mopen\u001b[0m\u001b[0;34m(\u001b[0m\u001b[0mname\u001b[0m\u001b[0;34m,\u001b[0m \u001b[0mflags\u001b[0m\u001b[0;34m,\u001b[0m \u001b[0mfapl\u001b[0m\u001b[0;34m=\u001b[0m\u001b[0mfapl\u001b[0m\u001b[0;34m)\u001b[0m\u001b[0;34m\u001b[0m\u001b[0;34m\u001b[0m\u001b[0m\n\u001b[0m\u001b[1;32m    191\u001b[0m     \u001b[0;32melif\u001b[0m \u001b[0mmode\u001b[0m \u001b[0;34m==\u001b[0m \u001b[0;34m'r+'\u001b[0m\u001b[0;34m:\u001b[0m\u001b[0;34m\u001b[0m\u001b[0;34m\u001b[0m\u001b[0m\n\u001b[1;32m    192\u001b[0m         \u001b[0mfid\u001b[0m \u001b[0;34m=\u001b[0m \u001b[0mh5f\u001b[0m\u001b[0;34m.\u001b[0m\u001b[0mopen\u001b[0m\u001b[0;34m(\u001b[0m\u001b[0mname\u001b[0m\u001b[0;34m,\u001b[0m \u001b[0mh5f\u001b[0m\u001b[0;34m.\u001b[0m\u001b[0mACC_RDWR\u001b[0m\u001b[0;34m,\u001b[0m \u001b[0mfapl\u001b[0m\u001b[0;34m=\u001b[0m\u001b[0mfapl\u001b[0m\u001b[0;34m)\u001b[0m\u001b[0;34m\u001b[0m\u001b[0;34m\u001b[0m\u001b[0m\n",
            "\u001b[0;32mh5py/_objects.pyx\u001b[0m in \u001b[0;36mh5py._objects.with_phil.wrapper\u001b[0;34m()\u001b[0m\n",
            "\u001b[0;32mh5py/_objects.pyx\u001b[0m in \u001b[0;36mh5py._objects.with_phil.wrapper\u001b[0;34m()\u001b[0m\n",
            "\u001b[0;32mh5py/h5f.pyx\u001b[0m in \u001b[0;36mh5py.h5f.open\u001b[0;34m()\u001b[0m\n",
            "\u001b[0;31mOSError\u001b[0m: Unable to open file (unable to open file: name = 'train_happy.h5', errno = 107, error message = 'Transport endpoint is not connected', flags = 0, o_flags = 0)"
          ]
        }
      ],
      "source": [
        "X_train_orig, Y_train_orig, X_test_orig, Y_test_orig, classes = load_happy_dataset()\n",
        "\n",
        "# Normalize image vectors\n",
        "X_train = X_train_orig/255.\n",
        "X_test = X_test_orig/255.\n",
        "\n",
        "# Reshape\n",
        "Y_train = Y_train_orig.T\n",
        "Y_test = Y_test_orig.T\n",
        "\n",
        "print (\"number of training examples = \" + str(X_train.shape[0]))\n",
        "print (\"number of test examples = \" + str(X_test.shape[0]))\n",
        "print (\"X_train shape: \" + str(X_train.shape))\n",
        "print (\"Y_train shape: \" + str(Y_train.shape))\n",
        "print (\"X_test shape: \" + str(X_test.shape))\n",
        "print (\"Y_test shape: \" + str(Y_test.shape))"
      ]
    },
    {
      "cell_type": "markdown",
      "metadata": {
        "id": "7n7za7NF-4sZ"
      },
      "source": [
        "You can display the images contained in the dataset. Images are **64x64** pixels in RGB format (3 channels)."
      ]
    },
    {
      "cell_type": "code",
      "execution_count": null,
      "metadata": {
        "id": "VlkSFN8g-4sa",
        "outputId": "6eaaf48a-8a26-447f-835f-1f07470566e0",
        "colab": {
          "base_uri": "https://localhost:8080/",
          "height": 268
        }
      },
      "outputs": [
        {
          "output_type": "display_data",
          "data": {
            "text/plain": [
              "<Figure size 432x288 with 1 Axes>"
            ],
            "image/png": "[encoded data removed]"
          },
          "metadata": {
            "needs_background": "light"
          }
        }
      ],
      "source": [
        "index = 124\n",
        "plt.imshow(X_train_orig[index]) #display sample training image\n",
        "plt.show()"
      ]
    },
    {
      "cell_type": "markdown",
      "metadata": {
        "id": "g5JAhipG-4sb"
      },
      "source": [
        "<a name='2'></a>\n",
        "## 2 - Layers in TF Keras \n",
        "\n",
        "In the previous assignment, you created layers manually in numpy. In TF Keras, you don't have to write code directly to create layers. Rather, TF Keras has pre-defined layers you can use. \n",
        "\n",
        "When you create a layer in TF Keras, you are creating a function that takes some input and transforms it into an output you can reuse later. Nice and easy! "
      ]
    },
    {
      "cell_type": "markdown",
      "metadata": {
        "id": "o71tgf2m-4sc"
      },
      "source": [
        "<a name='3'></a>\n",
        "## 3 - The Sequential API\n",
        "\n",
        "In the previous assignment, you built helper functions using `numpy` to understand the mechanics behind convolutional neural networks. Most practical applications of deep learning today are built using programming frameworks, which have many built-in functions you can simply call. Keras is a high-level abstraction built on top of TensorFlow, which allows for even more simplified and optimized model creation and training. \n",
        "\n",
        "For the first part of this assignment, you'll create a model using TF Keras' Sequential API, which allows you to build layer by layer, and is ideal for building models where each layer has **exactly one** input tensor and **one** output tensor. \n",
        "\n",
        "As you'll see, using the Sequential API is simple and straightforward, but is only appropriate for simpler, more straightforward tasks. Later in this notebook you'll spend some time building with a more flexible, powerful alternative: the Functional API. \n",
        " "
      ]
    },
    {
      "cell_type": "markdown",
      "metadata": {
        "id": "8e_ZBaaw-4sd"
      },
      "source": [
        "<a name='3-1'></a>\n",
        "### 3.1 - Create the Sequential Model\n",
        "\n",
        "As mentioned earlier, the TensorFlow Keras Sequential API can be used to build simple models with layer operations that proceed in a sequential order. \n",
        "\n",
        "You can also add layers incrementally to a Sequential model with the `.add()` method, or remove them using the `.pop()` method, much like you would in a regular Python list.\n",
        "\n",
        "Actually, you can think of a Sequential model as behaving like a list of layers. Like Python lists, Sequential layers are ordered, and the order in which they are specified matters.  If your model is non-linear or contains layers with multiple inputs or outputs, a Sequential model wouldn't be the right choice!\n",
        "\n",
        "For any layer construction in Keras, you'll need to specify the input shape in advance. This is because in Keras, the shape of the weights is based on the shape of the inputs. The weights are only created when the model first sees some input data. Sequential models can be created by passing a list of layers to the Sequential constructor, like you will do in the next assignment.\n",
        "\n",
        "<a name='ex-1'></a>\n",
        "### Exercise 1 - happyModel\n",
        "\n",
        "Implement the `happyModel` function below to build the following model: `ZEROPAD2D -> CONV2D -> BATCHNORM -> RELU -> MAXPOOL -> FLATTEN -> DENSE`. Take help from [tf.keras.layers](https://www.tensorflow.org/api_docs/python/tf/keras/layers) \n",
        "\n",
        "Also, plug in the following parameters for all the steps:\n",
        "\n",
        " - [ZeroPadding2D](https://www.tensorflow.org/api_docs/python/tf/keras/layers/ZeroPadding2D): padding 3, input shape 64 x 64 x 3\n",
        " - [Conv2D](https://www.tensorflow.org/api_docs/python/tf/keras/layers/Conv2D): Use 32 7x7 filters, stride 1\n",
        " - [BatchNormalization](https://www.tensorflow.org/api_docs/python/tf/keras/layers/BatchNormalization): for axis 3\n",
        " - [ReLU](https://www.tensorflow.org/api_docs/python/tf/keras/layers/ReLU)\n",
        " - [MaxPool2D](https://www.tensorflow.org/api_docs/python/tf/keras/layers/MaxPool2D): Using default parameters\n",
        " - [Flatten](https://www.tensorflow.org/api_docs/python/tf/keras/layers/Flatten) the previous output.\n",
        " - Fully-connected ([Dense](https://www.tensorflow.org/api_docs/python/tf/keras/layers/Dense)) layer: Apply a fully connected layer with 1 neuron and a sigmoid activation. \n",
        " \n",
        " \n",
        " **Hint:**\n",
        " \n",
        " Use **tfl** as shorthand for **tensorflow.keras.layers**"
      ]
    },
    {
      "cell_type": "code",
      "execution_count": null,
      "metadata": {
        "deletable": false,
        "nbgrader": {
          "cell_type": "code",
          "checksum": "95d28b191f257bdd5b70c7b8952559d5",
          "grade": false,
          "grade_id": "cell-0e56d3fc28b69aec",
          "locked": false,
          "schema_version": 3,
          "solution": true,
          "task": false
        },
        "id": "mP3MxWNW-4se"
      },
      "outputs": [],
      "source": [
        "# GRADED FUNCTION: happyModel\n",
        "\n",
        "def happyModel():\n",
        "    \"\"\"\n",
        "    Implements the forward propagation for the binary classification model:\n",
        "    ZEROPAD2D -> CONV2D -> BATCHNORM -> RELU -> MAXPOOL -> FLATTEN -> DENSE\n",
        "    \n",
        "    Note that for simplicity and grading purposes, you'll hard-code all the values\n",
        "    such as the stride and kernel (filter) sizes. \n",
        "    Normally, functions should take these values as function parameters.\n",
        "    \n",
        "    Arguments:\n",
        "    None\n",
        "\n",
        "    Returns:\n",
        "    model -- TF Keras model (object containing the information for the entire training process) \n",
        "    \"\"\"\n",
        "    model = tf.keras.Sequential([\n",
        "            ## ZeroPadding2D with padding 3, input shape of 64 x 64 x 3\n",
        "            \n",
        "            ## Conv2D with 32 7x7 filters and stride of 1\n",
        "            \n",
        "            ## BatchNormalization for axis 3\n",
        "            \n",
        "            ## ReLU\n",
        "            \n",
        "            ## Max Pooling 2D with default parameters\n",
        "            \n",
        "            ## Flatten layer\n",
        "            \n",
        "            ## Dense layer with 1 unit for output & 'sigmoid' activation\n",
        "            \n",
        "            # YOUR CODE STARTS HERE\n",
        "        # tf.keras.layers.ZeroPadding2D(padding = (3,3), input_shape = (64, 64, 3), data_format=\"channels_last\"),\n",
        "        # tf.keras.layers.Conv2D(filters = 32, kernel_size= (7,7), strides= (1,1), name = 'conv0'),\n",
        "        # tf.keras.layers.BatchNormalization(axis = 3, name = 'bn0'),\n",
        "        # tf.keras.layers.ReLU(),\n",
        "        # tf.keras.layers.MaxPooling2D(pool_size= (2,2), name = 'max_pool0'),\n",
        "        # tf.keras.layers.Flatten(),\n",
        "        # tf.keras.layers.Dense(units = 1, activation = 'sigmoid', name = 'fc'),\n",
        "        # ])\n",
        "        \n",
        "        tf.keras.layers.ZeroPadding2D(padding=(3,3),input_shape=(64, 64, 3), data_format=\"channels_last\"),\n",
        "    \n",
        "        tf.keras.layers.Conv2D(32, (7, 7), strides = (1, 1), name = 'conv0'),\n",
        "        \n",
        "        \n",
        "        tf.keras.layers.BatchNormalization(axis = 3, name = 'bn0'),\n",
        "        \n",
        "        tf.keras.layers.ReLU(max_value=None, negative_slope=0.0, threshold=0.0),\n",
        "        \n",
        "        tf.keras.layers.MaxPooling2D((2, 2), name='max_pool0'),\n",
        "    \n",
        "        tf.keras.layers.Flatten(),\n",
        "    \n",
        "        tf.keras.layers.Dense(1, activation='sigmoid', name='fc'),            \n",
        "            \n",
        "            # YOUR CODE ENDS HERE\n",
        "        ])\n",
        "    \n",
        "    return model"
      ]
    },
    {
      "cell_type": "code",
      "execution_count": null,
      "metadata": {
        "deletable": false,
        "editable": false,
        "nbgrader": {
          "cell_type": "code",
          "checksum": "8d3575c950e2e78149be2d05d671c80d",
          "grade": true,
          "grade_id": "cell-e3e1046e5c33d775",
          "locked": true,
          "points": 10,
          "schema_version": 3,
          "solution": false,
          "task": false
        },
        "id": "PDkflJb_-4sg",
        "outputId": "98434d47-1645-42a8-bdf0-231418a51ef9",
        "colab": {
          "base_uri": "https://localhost:8080/"
        }
      },
      "outputs": [
        {
          "output_type": "stream",
          "name": "stdout",
          "text": [
            "['ZeroPadding2D', (None, 70, 70, 3), 0, ((3, 3), (3, 3))]\n",
            "['Conv2D', (None, 64, 64, 32), 4736, 'valid', 'linear', 'GlorotUniform']\n",
            "['BatchNormalization', (None, 64, 64, 32), 128]\n",
            "['ReLU', (None, 64, 64, 32), 0]\n",
            "['MaxPooling2D', (None, 32, 32, 32), 0, (2, 2), (2, 2), 'valid']\n",
            "['Flatten', (None, 32768), 0]\n",
            "['Dense', (None, 1), 32769, 'sigmoid']\n",
            "\u001b[32mAll tests passed!\u001b[0m\n"
          ]
        }
      ],
      "source": [
        "happy_model = happyModel()\n",
        "# Print a summary for each layer\n",
        "for layer in summary(happy_model):\n",
        "    print(layer)\n",
        "    \n",
        "output = [['ZeroPadding2D', (None, 70, 70, 3), 0, ((3, 3), (3, 3))],\n",
        "            ['Conv2D', (None, 64, 64, 32), 4736, 'valid', 'linear', 'GlorotUniform'],\n",
        "            ['BatchNormalization', (None, 64, 64, 32), 128],\n",
        "            ['ReLU', (None, 64, 64, 32), 0],\n",
        "            ['MaxPooling2D', (None, 32, 32, 32), 0, (2, 2), (2, 2), 'valid'],\n",
        "            ['Flatten', (None, 32768), 0],\n",
        "            ['Dense', (None, 1), 32769, 'sigmoid']]\n",
        "    \n",
        "comparator(summary(happy_model), output)"
      ]
    },
    {
      "cell_type": "code",
      "execution_count": null,
      "metadata": {
        "id": "kC36rVCt-4sg",
        "outputId": "e3577b66-59a4-46aa-e154-408ae665241b",
        "colab": {
          "base_uri": "https://localhost:8080/"
        }
      },
      "outputs": [
        {
          "output_type": "stream",
          "name": "stdout",
          "text": [
            "['ZeroPadding2D', (None, 70, 70, 3), 0, ((3, 3), (3, 3))]\n",
            "['Conv2D', (None, 64, 64, 32), 4736, 'valid', 'linear', 'GlorotUniform']\n",
            "['BatchNormalization', (None, 64, 64, 32), 128]\n",
            "['ReLU', (None, 64, 64, 32), 0]\n",
            "['MaxPooling2D', (None, 32, 32, 32), 0, (2, 2), (2, 2), 'valid']\n",
            "['Flatten', (None, 32768), 0]\n",
            "['Dense', (None, 1), 32769, 'sigmoid']\n"
          ]
        }
      ],
      "source": [
        "for layer in summary(happy_model):\n",
        "    print(layer)\n",
        "    "
      ]
    },
    {
      "cell_type": "markdown",
      "metadata": {
        "id": "TrA2o054-4sh"
      },
      "source": [
        "Now that your model is created, you can compile it for training with an optimizer and loss of your choice. When the string `accuracy` is specified as a metric, the type of accuracy used will be automatically converted based on the loss function used. This is one of the many optimizations built into TensorFlow that make your life easier! If you'd like to read more on how the compiler operates, check the docs [here](https://www.tensorflow.org/api_docs/python/tf/keras/Model#compile)."
      ]
    },
    {
      "cell_type": "code",
      "execution_count": null,
      "metadata": {
        "id": "M_TaUY22-4sh"
      },
      "outputs": [],
      "source": [
        "happy_model.compile(optimizer='adam',\n",
        "                   loss='binary_crossentropy',\n",
        "                   metrics=['accuracy'])"
      ]
    },
    {
      "cell_type": "markdown",
      "metadata": {
        "id": "XpWpTXuw-4si"
      },
      "source": [
        "It's time to check your model's parameters with the `.summary()` method. This will display the types of layers you have, the shape of the outputs, and how many parameters are in each layer. "
      ]
    },
    {
      "cell_type": "code",
      "execution_count": null,
      "metadata": {
        "id": "KGjXqEQ2-4si",
        "outputId": "b60b68bd-9368-4a99-a088-87c06ba07eec",
        "colab": {
          "base_uri": "https://localhost:8080/"
        }
      },
      "outputs": [
        {
          "output_type": "stream",
          "name": "stdout",
          "text": [
            "Model: \"sequential_3\"\n",
            "_________________________________________________________________\n",
            " Layer (type)                Output Shape              Param #   \n",
            "=================================================================\n",
            " zero_padding2d_3 (ZeroPaddi  (None, 70, 70, 3)        0         \n",
            " ng2D)                                                           \n",
            "                                                                 \n",
            " conv0 (Conv2D)              (None, 64, 64, 32)        4736      \n",
            "                                                                 \n",
            " bn0 (BatchNormalization)    (None, 64, 64, 32)        128       \n",
            "                                                                 \n",
            " re_lu_9 (ReLU)              (None, 64, 64, 32)        0         \n",
            "                                                                 \n",
            " max_pool0 (MaxPooling2D)    (None, 32, 32, 32)        0         \n",
            "                                                                 \n",
            " flatten_6 (Flatten)         (None, 32768)             0         \n",
            "                                                                 \n",
            " fc (Dense)                  (None, 1)                 32769     \n",
            "                                                                 \n",
            "=================================================================\n",
            "Total params: 37,633\n",
            "Trainable params: 37,569\n",
            "Non-trainable params: 64\n",
            "_________________________________________________________________\n"
          ]
        }
      ],
      "source": [
        "happy_model.summary()"
      ]
    },
    {
      "cell_type": "markdown",
      "metadata": {
        "id": "TI1VFf2m-4sj"
      },
      "source": [
        "<a name='3-2'></a>\n",
        "### 3.2 - Train and Evaluate the Model\n",
        "\n",
        "After creating the model, compiling it with your choice of optimizer and loss function, and doing a sanity check on its contents, you are now ready to build! \n",
        "\n",
        "Simply call `.fit()` to train. That's it! No need for mini-batching, saving, or complex backpropagation computations. That's all been done for you, as you're using a TensorFlow dataset with the batches specified already. You do have the option to specify epoch number or minibatch size if you like (for example, in the case of an un-batched dataset)."
      ]
    },
    {
      "cell_type": "code",
      "execution_count": null,
      "metadata": {
        "id": "pdXJxo6E-4sj",
        "outputId": "92382960-660d-4b02-bccb-6d0a9df558d2",
        "colab": {
          "base_uri": "https://localhost:8080/"
        }
      },
      "outputs": [
        {
          "output_type": "stream",
          "name": "stdout",
          "text": [
            "Epoch 1/10\n",
            "38/38 [==============================] - 1s 5ms/step - loss: 0.7373 - accuracy: 0.7717\n",
            "Epoch 2/10\n",
            "38/38 [==============================] - 0s 5ms/step - loss: 0.1611 - accuracy: 0.9467\n",
            "Epoch 3/10\n",
            "38/38 [==============================] - 0s 5ms/step - loss: 0.1221 - accuracy: 0.9483\n",
            "Epoch 4/10\n",
            "38/38 [==============================] - 0s 5ms/step - loss: 0.1061 - accuracy: 0.9500\n",
            "Epoch 5/10\n",
            "38/38 [==============================] - 0s 5ms/step - loss: 0.2587 - accuracy: 0.9150\n",
            "Epoch 6/10\n",
            "38/38 [==============================] - 0s 5ms/step - loss: 0.1222 - accuracy: 0.9533\n",
            "Epoch 7/10\n",
            "38/38 [==============================] - 0s 5ms/step - loss: 0.0791 - accuracy: 0.9650\n",
            "Epoch 8/10\n",
            "38/38 [==============================] - 0s 5ms/step - loss: 0.0744 - accuracy: 0.9700\n",
            "Epoch 9/10\n",
            "38/38 [==============================] - 0s 5ms/step - loss: 0.1221 - accuracy: 0.9450\n",
            "Epoch 10/10\n",
            "38/38 [==============================] - 0s 5ms/step - loss: 0.0925 - accuracy: 0.9767\n"
          ]
        },
        {
          "output_type": "execute_result",
          "data": {
            "text/plain": [
              "<keras.callbacks.History at 0x7f5afe1cce90>"
            ]
          },
          "metadata": {},
          "execution_count": 85
        }
      ],
      "source": [
        "happy_model.fit(X_train, Y_train, epochs=10, batch_size=16)"
      ]
    },
    {
      "cell_type": "markdown",
      "metadata": {
        "id": "w-t9YqoH-4sk"
      },
      "source": [
        "After that completes, just use `.evaluate()` to evaluate against your test set. This function will print the value of the loss function and the performance metrics specified during the compilation of the model. In this case, the `binary_crossentropy` and the `accuracy` respectively."
      ]
    },
    {
      "cell_type": "code",
      "execution_count": null,
      "metadata": {
        "id": "6owsZca--4sk",
        "outputId": "cb529fcd-3b0b-4ced-903d-51264bded339",
        "colab": {
          "base_uri": "https://localhost:8080/"
        }
      },
      "outputs": [
        {
          "output_type": "stream",
          "name": "stdout",
          "text": [
            "5/5 [==============================] - 0s 5ms/step - loss: 0.1587 - accuracy: 0.9200\n"
          ]
        },
        {
          "output_type": "execute_result",
          "data": {
            "text/plain": [
              "[0.1586914211511612, 0.9200000166893005]"
            ]
          },
          "metadata": {},
          "execution_count": 86
        }
      ],
      "source": [
        "happy_model.evaluate(X_test, Y_test)"
      ]
    },
    {
      "cell_type": "markdown",
      "metadata": {
        "id": "LW6a64WO-4sk"
      },
      "source": [
        "Easy, right? But what if you need to build a model with shared layers, branches, or multiple inputs and outputs? This is where Sequential, with its beautifully simple yet limited functionality, won't be able to help you. \n",
        "\n",
        "Next up: Enter the Functional API, your slightly more complex, highly flexible friend.  "
      ]
    },
    {
      "cell_type": "markdown",
      "metadata": {
        "id": "RgwPu3r7-4sl"
      },
      "source": [
        "<a name='4'></a>\n",
        "## 4 - The Functional API"
      ]
    },
    {
      "cell_type": "markdown",
      "metadata": {
        "id": "Lu4OwQw7-4sm"
      },
      "source": [
        "<img src=\"images/seq_vs_func.png\" style=\"width:350px;height:200px;\">"
      ]
    },
    {
      "cell_type": "code",
      "source": [
        "def load_signs_dataset():\n",
        "    train_dataset = h5py.File('train_signs.h5', \"r\")\n",
        "    train_set_x_orig = np.array(train_dataset[\"train_set_x\"][:]) # your train set features\n",
        "    train_set_y_orig = np.array(train_dataset[\"train_set_y\"][:]) # your train set labels\n",
        "\n",
        "    test_dataset = h5py.File('test_signs.h5', \"r\")\n",
        "    test_set_x_orig = np.array(test_dataset[\"test_set_x\"][:]) # your test set features\n",
        "    test_set_y_orig = np.array(test_dataset[\"test_set_y\"][:]) # your test set labels\n",
        "\n",
        "    classes = np.array(test_dataset[\"list_classes\"][:]) # the list of classes\n",
        "    \n",
        "    train_set_y_orig = train_set_y_orig.reshape((1, train_set_y_orig.shape[0]))\n",
        "    test_set_y_orig = test_set_y_orig.reshape((1, test_set_y_orig.shape[0]))\n",
        "    \n",
        "    return train_set_x_orig, train_set_y_orig, test_set_x_orig, test_set_y_orig, classes"
      ],
      "metadata": {
        "id": "mQUbTH6uDd53"
      },
      "execution_count": 7,
      "outputs": []
    },
    {
      "cell_type": "markdown",
      "metadata": {
        "id": "_Ks7jUJ5-4sm"
      },
      "source": [
        "<a name='4-1'></a>\n",
        "### 4.1 - Load the SIGNS Dataset\n",
        "\n",
        "As a reminder, the SIGNS dataset is a collection of 6 signs representing numbers from 0 to 5."
      ]
    },
    {
      "cell_type": "code",
      "source": [],
      "metadata": {
        "id": "MoTKctET_vbj"
      },
      "execution_count": null,
      "outputs": []
    },
    {
      "cell_type": "code",
      "execution_count": 8,
      "metadata": {
        "id": "LXz_4_cF-4sm"
      },
      "outputs": [],
      "source": [
        "# Loading the data (signs)\n",
        "X_train_orig, Y_train_orig, X_test_orig, Y_test_orig, classes = load_signs_dataset()"
      ]
    },
    {
      "cell_type": "markdown",
      "metadata": {
        "id": "EWdhLXWy-4sm"
      },
      "source": [
        "<img src=\"images/SIGNS.png\" style=\"width:800px;height:300px;\">\n",
        "\n",
        "The next cell will show you an example of a labelled image in the dataset. Feel free to change the value of `index` below and re-run to see different examples. "
      ]
    },
    {
      "cell_type": "code",
      "execution_count": 9,
      "metadata": {
        "id": "ks1KXZmZ-4sm",
        "outputId": "9c205e52-a681-49fc-ad3e-12fa36e400e4",
        "colab": {
          "base_uri": "https://localhost:8080/",
          "height": 285
        }
      },
      "outputs": [
        {
          "output_type": "stream",
          "name": "stdout",
          "text": [
            "y = 0\n"
          ]
        },
        {
          "output_type": "display_data",
          "data": {
            "text/plain": [
              "<Figure size 432x288 with 1 Axes>"
            ],
            "image/png": "[encoded data removed]"
          },
          "metadata": {
            "needs_background": "light"
          }
        }
      ],
      "source": [
        "# Example of an image from the dataset\n",
        "index = 20\n",
        "plt.imshow(X_train_orig[index])\n",
        "print (\"y = \" + str(np.squeeze(Y_train_orig[:, index])))"
      ]
    },
    {
      "cell_type": "code",
      "execution_count": 10,
      "metadata": {
        "id": "4m2e6uLH-4sn",
        "outputId": "70ac4176-d8d4-43da-9237-aad44117ff52",
        "colab": {
          "base_uri": "https://localhost:8080/"
        }
      },
      "outputs": [
        {
          "output_type": "stream",
          "name": "stdout",
          "text": [
            "number of training examples = 1080\n",
            "number of test examples = 120\n",
            "X_train shape: (1080, 64, 64, 3)\n",
            "Y_train shape: (1080, 6)\n",
            "X_test shape: (120, 64, 64, 3)\n",
            "Y_test shape: (120, 6)\n"
          ]
        }
      ],
      "source": [
        "X_train = X_train_orig/255.\n",
        "X_test = X_test_orig/255.\n",
        "Y_train = convert_to_one_hot(Y_train_orig, 6).T\n",
        "Y_test = convert_to_one_hot(Y_test_orig, 6).T\n",
        "print (\"number of training examples = \" + str(X_train.shape[0]))\n",
        "print (\"number of test examples = \" + str(X_test.shape[0]))\n",
        "print (\"X_train shape: \" + str(X_train.shape))\n",
        "print (\"Y_train shape: \" + str(Y_train.shape))\n",
        "print (\"X_test shape: \" + str(X_test.shape))\n",
        "print (\"Y_test shape: \" + str(Y_test.shape))"
      ]
    },
    {
      "cell_type": "code",
      "execution_count": 11,
      "metadata": {
        "deletable": false,
        "nbgrader": {
          "cell_type": "code",
          "checksum": "f58643806aa8380c96225fc8b4c5e7aa",
          "grade": false,
          "grade_id": "cell-dac51744a9e03f51",
          "locked": false,
          "schema_version": 3,
          "solution": true,
          "task": false
        },
        "id": "Rd4kyGY7-4so"
      },
      "outputs": [],
      "source": [
        "# GRADED FUNCTION: convolutional_model\n",
        "\n",
        "def convolutional_model(input_shape):\n",
        "\n",
        "    input_img = tf.keras.Input(shape=input_shape)\n",
        "\n",
        "    Z1 = tf.keras.layers.Conv2D(filters = 8 , kernel_size= (4,4), strides = (1,1), padding='same')(input_img)\n",
        "    A1 = tf.keras.layers.ReLU()(Z1)\n",
        "    P1 = tf.keras.layers.MaxPool2D(pool_size=(8,8), strides=(8, 8), padding='same')(A1)\n",
        "    Z2 = tf.keras.layers.Conv2D(filters = 16 , kernel_size= (2,2), strides = (1,1), padding='same')(P1)\n",
        "    A2 = tf.keras.layers.ReLU()(Z2)\n",
        "    P2 = tf.keras.layers.MaxPool2D(pool_size=(4,4), strides=(4, 4), padding='same')(A2)\n",
        "    F = tf.keras.layers.Flatten()(P2)\n",
        "    outputs = tf.keras.layers.Dense(units=6, activation='softmax')(F)    \n",
        "    \n",
        "    # YOUR CODE ENDS HERE\n",
        "    model = tf.keras.Model(inputs=input_img, outputs=outputs)\n",
        "    return model"
      ]
    },
    {
      "cell_type": "code",
      "execution_count": 12,
      "metadata": {
        "deletable": false,
        "editable": false,
        "nbgrader": {
          "cell_type": "code",
          "checksum": "483d626949930a0b0ef20997e7c6ba72",
          "grade": true,
          "grade_id": "cell-45d22e92042174c9",
          "locked": true,
          "points": 10,
          "schema_version": 3,
          "solution": false,
          "task": false
        },
        "id": "5l5tfJoC-4sp",
        "outputId": "35d33dc6-ee4f-48fb-eab3-142146cc979f",
        "colab": {
          "base_uri": "https://localhost:8080/"
        }
      },
      "outputs": [
        {
          "output_type": "stream",
          "name": "stdout",
          "text": [
            "Model: \"model\"\n",
            "_________________________________________________________________\n",
            " Layer (type)                Output Shape              Param #   \n",
            "=================================================================\n",
            " input_1 (InputLayer)        [(None, 64, 64, 3)]       0         \n",
            "                                                                 \n",
            " conv2d (Conv2D)             (None, 64, 64, 8)         392       \n",
            "                                                                 \n",
            " re_lu (ReLU)                (None, 64, 64, 8)         0         \n",
            "                                                                 \n",
            " max_pooling2d (MaxPooling2D  (None, 8, 8, 8)          0         \n",
            " )                                                               \n",
            "                                                                 \n",
            " conv2d_1 (Conv2D)           (None, 8, 8, 16)          528       \n",
            "                                                                 \n",
            " re_lu_1 (ReLU)              (None, 8, 8, 16)          0         \n",
            "                                                                 \n",
            " max_pooling2d_1 (MaxPooling  (None, 2, 2, 16)         0         \n",
            " 2D)                                                             \n",
            "                                                                 \n",
            " flatten (Flatten)           (None, 64)                0         \n",
            "                                                                 \n",
            " dense (Dense)               (None, 6)                 390       \n",
            "                                                                 \n",
            "=================================================================\n",
            "Total params: 1,310\n",
            "Trainable params: 1,310\n",
            "Non-trainable params: 0\n",
            "_________________________________________________________________\n"
          ]
        }
      ],
      "source": [
        "conv_model = convolutional_model((64, 64, 3))\n",
        "conv_model.compile(optimizer='adam',\n",
        "                  loss='categorical_crossentropy',\n",
        "                  metrics=['accuracy'])\n",
        "conv_model.summary()\n",
        "  "
      ]
    },
    {
      "cell_type": "markdown",
      "metadata": {
        "id": "Jc8EtYWX-4sp"
      },
      "source": [
        "Both the Sequential and Functional APIs return a TF Keras model object. The only difference is how inputs are handled inside the object model! "
      ]
    },
    {
      "cell_type": "markdown",
      "metadata": {
        "id": "qPKKnFJv-4sp"
      },
      "source": [
        "<a name='4-4'></a>\n",
        "### 4.4 - Train the Model"
      ]
    },
    {
      "cell_type": "code",
      "execution_count": 13,
      "metadata": {
        "id": "-UiXORgi-4sq",
        "outputId": "fb16b0e5-c892-490f-f7e9-8de3af1e5fbd",
        "colab": {
          "base_uri": "https://localhost:8080/"
        }
      },
      "outputs": [
        {
          "output_type": "stream",
          "name": "stdout",
          "text": [
            "Epoch 1/100\n",
            "17/17 [==============================] - 8s 26ms/step - loss: 1.7956 - accuracy: 0.1731 - val_loss: 1.7910 - val_accuracy: 0.1917\n",
            "Epoch 2/100\n",
            "17/17 [==============================] - 0s 11ms/step - loss: 1.7815 - accuracy: 0.2250 - val_loss: 1.7855 - val_accuracy: 0.2000\n",
            "Epoch 3/100\n",
            "17/17 [==============================] - 0s 10ms/step - loss: 1.7735 - accuracy: 0.2602 - val_loss: 1.7803 - val_accuracy: 0.2417\n",
            "Epoch 4/100\n",
            "17/17 [==============================] - 0s 10ms/step - loss: 1.7644 - accuracy: 0.2889 - val_loss: 1.7735 - val_accuracy: 0.2500\n",
            "Epoch 5/100\n",
            "17/17 [==============================] - 0s 9ms/step - loss: 1.7540 - accuracy: 0.3046 - val_loss: 1.7648 - val_accuracy: 0.2667\n",
            "Epoch 6/100\n",
            "17/17 [==============================] - 0s 9ms/step - loss: 1.7404 - accuracy: 0.3704 - val_loss: 1.7542 - val_accuracy: 0.3083\n",
            "Epoch 7/100\n",
            "17/17 [==============================] - 0s 9ms/step - loss: 1.7229 - accuracy: 0.4000 - val_loss: 1.7405 - val_accuracy: 0.4083\n",
            "Epoch 8/100\n",
            "17/17 [==============================] - 0s 9ms/step - loss: 1.7009 - accuracy: 0.4417 - val_loss: 1.7233 - val_accuracy: 0.4167\n",
            "Epoch 9/100\n",
            "17/17 [==============================] - 0s 8ms/step - loss: 1.6738 - accuracy: 0.4583 - val_loss: 1.6999 - val_accuracy: 0.4500\n",
            "Epoch 10/100\n",
            "17/17 [==============================] - 0s 10ms/step - loss: 1.6389 - accuracy: 0.4787 - val_loss: 1.6698 - val_accuracy: 0.4333\n",
            "Epoch 11/100\n",
            "17/17 [==============================] - 0s 9ms/step - loss: 1.5969 - accuracy: 0.4963 - val_loss: 1.6324 - val_accuracy: 0.4667\n",
            "Epoch 12/100\n",
            "17/17 [==============================] - 0s 8ms/step - loss: 1.5482 - accuracy: 0.5139 - val_loss: 1.5882 - val_accuracy: 0.4833\n",
            "Epoch 13/100\n",
            "17/17 [==============================] - 0s 8ms/step - loss: 1.4937 - accuracy: 0.5296 - val_loss: 1.5360 - val_accuracy: 0.4833\n",
            "Epoch 14/100\n",
            "17/17 [==============================] - 0s 9ms/step - loss: 1.4365 - accuracy: 0.5454 - val_loss: 1.4853 - val_accuracy: 0.4833\n",
            "Epoch 15/100\n",
            "17/17 [==============================] - 0s 8ms/step - loss: 1.3809 - accuracy: 0.5574 - val_loss: 1.4319 - val_accuracy: 0.5083\n",
            "Epoch 16/100\n",
            "17/17 [==============================] - 0s 9ms/step - loss: 1.3258 - accuracy: 0.5759 - val_loss: 1.3810 - val_accuracy: 0.5250\n",
            "Epoch 17/100\n",
            "17/17 [==============================] - 0s 8ms/step - loss: 1.2733 - accuracy: 0.5926 - val_loss: 1.3300 - val_accuracy: 0.5333\n",
            "Epoch 18/100\n",
            "17/17 [==============================] - 0s 9ms/step - loss: 1.2248 - accuracy: 0.6000 - val_loss: 1.2867 - val_accuracy: 0.5500\n",
            "Epoch 19/100\n",
            "17/17 [==============================] - 0s 9ms/step - loss: 1.1804 - accuracy: 0.6176 - val_loss: 1.2460 - val_accuracy: 0.5583\n",
            "Epoch 20/100\n",
            "17/17 [==============================] - 0s 8ms/step - loss: 1.1401 - accuracy: 0.6296 - val_loss: 1.2087 - val_accuracy: 0.5667\n",
            "Epoch 21/100\n",
            "17/17 [==============================] - 0s 9ms/step - loss: 1.1028 - accuracy: 0.6426 - val_loss: 1.1750 - val_accuracy: 0.5833\n",
            "Epoch 22/100\n",
            "17/17 [==============================] - 0s 9ms/step - loss: 1.0681 - accuracy: 0.6519 - val_loss: 1.1436 - val_accuracy: 0.6000\n",
            "Epoch 23/100\n",
            "17/17 [==============================] - 0s 9ms/step - loss: 1.0357 - accuracy: 0.6593 - val_loss: 1.1146 - val_accuracy: 0.6083\n",
            "Epoch 24/100\n",
            "17/17 [==============================] - 0s 8ms/step - loss: 1.0066 - accuracy: 0.6685 - val_loss: 1.0877 - val_accuracy: 0.6083\n",
            "Epoch 25/100\n",
            "17/17 [==============================] - 0s 8ms/step - loss: 0.9794 - accuracy: 0.6778 - val_loss: 1.0646 - val_accuracy: 0.6083\n",
            "Epoch 26/100\n",
            "17/17 [==============================] - 0s 9ms/step - loss: 0.9539 - accuracy: 0.6852 - val_loss: 1.0420 - val_accuracy: 0.6083\n",
            "Epoch 27/100\n",
            "17/17 [==============================] - 0s 8ms/step - loss: 0.9310 - accuracy: 0.6963 - val_loss: 1.0221 - val_accuracy: 0.6167\n",
            "Epoch 28/100\n",
            "17/17 [==============================] - 0s 9ms/step - loss: 0.9092 - accuracy: 0.6972 - val_loss: 1.0028 - val_accuracy: 0.6250\n",
            "Epoch 29/100\n",
            "17/17 [==============================] - 0s 8ms/step - loss: 0.8895 - accuracy: 0.7065 - val_loss: 0.9865 - val_accuracy: 0.6333\n",
            "Epoch 30/100\n",
            "17/17 [==============================] - 0s 9ms/step - loss: 0.8703 - accuracy: 0.7157 - val_loss: 0.9700 - val_accuracy: 0.6500\n",
            "Epoch 31/100\n",
            "17/17 [==============================] - 0s 9ms/step - loss: 0.8537 - accuracy: 0.7176 - val_loss: 0.9530 - val_accuracy: 0.6500\n",
            "Epoch 32/100\n",
            "17/17 [==============================] - 0s 8ms/step - loss: 0.8377 - accuracy: 0.7287 - val_loss: 0.9397 - val_accuracy: 0.6583\n",
            "Epoch 33/100\n",
            "17/17 [==============================] - 0s 9ms/step - loss: 0.8214 - accuracy: 0.7324 - val_loss: 0.9243 - val_accuracy: 0.6583\n",
            "Epoch 34/100\n",
            "17/17 [==============================] - 0s 9ms/step - loss: 0.8074 - accuracy: 0.7352 - val_loss: 0.9130 - val_accuracy: 0.6583\n",
            "Epoch 35/100\n",
            "17/17 [==============================] - 0s 9ms/step - loss: 0.7922 - accuracy: 0.7343 - val_loss: 0.9000 - val_accuracy: 0.6833\n",
            "Epoch 36/100\n",
            "17/17 [==============================] - 0s 9ms/step - loss: 0.7794 - accuracy: 0.7380 - val_loss: 0.8872 - val_accuracy: 0.6750\n",
            "Epoch 37/100\n",
            "17/17 [==============================] - 0s 9ms/step - loss: 0.7673 - accuracy: 0.7444 - val_loss: 0.8767 - val_accuracy: 0.6917\n",
            "Epoch 38/100\n",
            "17/17 [==============================] - 0s 9ms/step - loss: 0.7546 - accuracy: 0.7519 - val_loss: 0.8658 - val_accuracy: 0.6917\n",
            "Epoch 39/100\n",
            "17/17 [==============================] - 0s 9ms/step - loss: 0.7427 - accuracy: 0.7546 - val_loss: 0.8537 - val_accuracy: 0.7083\n",
            "Epoch 40/100\n",
            "17/17 [==============================] - 0s 9ms/step - loss: 0.7310 - accuracy: 0.7537 - val_loss: 0.8455 - val_accuracy: 0.7167\n",
            "Epoch 41/100\n",
            "17/17 [==============================] - 0s 9ms/step - loss: 0.7194 - accuracy: 0.7574 - val_loss: 0.8360 - val_accuracy: 0.7167\n",
            "Epoch 42/100\n",
            "17/17 [==============================] - 0s 9ms/step - loss: 0.7090 - accuracy: 0.7620 - val_loss: 0.8277 - val_accuracy: 0.7167\n",
            "Epoch 43/100\n",
            "17/17 [==============================] - 0s 9ms/step - loss: 0.6984 - accuracy: 0.7611 - val_loss: 0.8166 - val_accuracy: 0.7167\n",
            "Epoch 44/100\n",
            "17/17 [==============================] - 0s 9ms/step - loss: 0.6887 - accuracy: 0.7667 - val_loss: 0.8093 - val_accuracy: 0.7167\n",
            "Epoch 45/100\n",
            "17/17 [==============================] - 0s 8ms/step - loss: 0.6788 - accuracy: 0.7657 - val_loss: 0.8005 - val_accuracy: 0.7250\n",
            "Epoch 46/100\n",
            "17/17 [==============================] - 0s 8ms/step - loss: 0.6690 - accuracy: 0.7731 - val_loss: 0.7935 - val_accuracy: 0.7417\n",
            "Epoch 47/100\n",
            "17/17 [==============================] - 0s 8ms/step - loss: 0.6608 - accuracy: 0.7778 - val_loss: 0.7861 - val_accuracy: 0.7500\n",
            "Epoch 48/100\n",
            "17/17 [==============================] - 0s 8ms/step - loss: 0.6516 - accuracy: 0.7815 - val_loss: 0.7777 - val_accuracy: 0.7583\n",
            "Epoch 49/100\n",
            "17/17 [==============================] - 0s 9ms/step - loss: 0.6439 - accuracy: 0.7833 - val_loss: 0.7705 - val_accuracy: 0.7500\n",
            "Epoch 50/100\n",
            "17/17 [==============================] - 0s 9ms/step - loss: 0.6352 - accuracy: 0.7907 - val_loss: 0.7624 - val_accuracy: 0.7667\n",
            "Epoch 51/100\n",
            "17/17 [==============================] - 0s 12ms/step - loss: 0.6283 - accuracy: 0.7917 - val_loss: 0.7567 - val_accuracy: 0.7667\n",
            "Epoch 52/100\n",
            "17/17 [==============================] - 0s 10ms/step - loss: 0.6202 - accuracy: 0.7935 - val_loss: 0.7484 - val_accuracy: 0.7667\n",
            "Epoch 53/100\n",
            "17/17 [==============================] - 0s 8ms/step - loss: 0.6131 - accuracy: 0.7981 - val_loss: 0.7427 - val_accuracy: 0.7667\n",
            "Epoch 54/100\n",
            "17/17 [==============================] - 0s 9ms/step - loss: 0.6056 - accuracy: 0.8037 - val_loss: 0.7356 - val_accuracy: 0.7667\n",
            "Epoch 55/100\n",
            "17/17 [==============================] - 0s 15ms/step - loss: 0.5988 - accuracy: 0.8037 - val_loss: 0.7315 - val_accuracy: 0.7667\n",
            "Epoch 56/100\n",
            "17/17 [==============================] - 0s 11ms/step - loss: 0.5916 - accuracy: 0.8019 - val_loss: 0.7240 - val_accuracy: 0.7667\n",
            "Epoch 57/100\n",
            "17/17 [==============================] - 0s 9ms/step - loss: 0.5855 - accuracy: 0.8056 - val_loss: 0.7214 - val_accuracy: 0.7667\n",
            "Epoch 58/100\n",
            "17/17 [==============================] - 0s 9ms/step - loss: 0.5788 - accuracy: 0.8074 - val_loss: 0.7154 - val_accuracy: 0.7667\n",
            "Epoch 59/100\n",
            "17/17 [==============================] - 0s 12ms/step - loss: 0.5725 - accuracy: 0.8093 - val_loss: 0.7120 - val_accuracy: 0.7667\n",
            "Epoch 60/100\n",
            "17/17 [==============================] - 0s 16ms/step - loss: 0.5661 - accuracy: 0.8093 - val_loss: 0.7059 - val_accuracy: 0.7667\n",
            "Epoch 61/100\n",
            "17/17 [==============================] - 0s 9ms/step - loss: 0.5605 - accuracy: 0.8120 - val_loss: 0.7039 - val_accuracy: 0.7750\n",
            "Epoch 62/100\n",
            "17/17 [==============================] - 0s 9ms/step - loss: 0.5542 - accuracy: 0.8157 - val_loss: 0.6978 - val_accuracy: 0.7833\n",
            "Epoch 63/100\n",
            "17/17 [==============================] - 0s 9ms/step - loss: 0.5483 - accuracy: 0.8176 - val_loss: 0.6959 - val_accuracy: 0.7750\n",
            "Epoch 64/100\n",
            "17/17 [==============================] - 0s 8ms/step - loss: 0.5425 - accuracy: 0.8194 - val_loss: 0.6909 - val_accuracy: 0.7833\n",
            "Epoch 65/100\n",
            "17/17 [==============================] - 0s 9ms/step - loss: 0.5370 - accuracy: 0.8259 - val_loss: 0.6875 - val_accuracy: 0.7917\n",
            "Epoch 66/100\n",
            "17/17 [==============================] - 0s 9ms/step - loss: 0.5313 - accuracy: 0.8259 - val_loss: 0.6822 - val_accuracy: 0.7917\n",
            "Epoch 67/100\n",
            "17/17 [==============================] - 0s 8ms/step - loss: 0.5260 - accuracy: 0.8315 - val_loss: 0.6793 - val_accuracy: 0.8000\n",
            "Epoch 68/100\n",
            "17/17 [==============================] - 0s 9ms/step - loss: 0.5200 - accuracy: 0.8315 - val_loss: 0.6725 - val_accuracy: 0.7917\n",
            "Epoch 69/100\n",
            "17/17 [==============================] - 0s 8ms/step - loss: 0.5148 - accuracy: 0.8361 - val_loss: 0.6715 - val_accuracy: 0.8000\n",
            "Epoch 70/100\n",
            "17/17 [==============================] - 0s 9ms/step - loss: 0.5099 - accuracy: 0.8361 - val_loss: 0.6658 - val_accuracy: 0.8000\n",
            "Epoch 71/100\n",
            "17/17 [==============================] - 0s 8ms/step - loss: 0.5050 - accuracy: 0.8389 - val_loss: 0.6646 - val_accuracy: 0.8000\n",
            "Epoch 72/100\n",
            "17/17 [==============================] - 0s 9ms/step - loss: 0.5001 - accuracy: 0.8407 - val_loss: 0.6607 - val_accuracy: 0.8000\n",
            "Epoch 73/100\n",
            "17/17 [==============================] - 0s 9ms/step - loss: 0.4955 - accuracy: 0.8417 - val_loss: 0.6582 - val_accuracy: 0.8000\n",
            "Epoch 74/100\n",
            "17/17 [==============================] - 0s 8ms/step - loss: 0.4912 - accuracy: 0.8435 - val_loss: 0.6537 - val_accuracy: 0.8000\n",
            "Epoch 75/100\n",
            "17/17 [==============================] - 0s 8ms/step - loss: 0.4865 - accuracy: 0.8417 - val_loss: 0.6512 - val_accuracy: 0.8000\n",
            "Epoch 76/100\n",
            "17/17 [==============================] - 0s 8ms/step - loss: 0.4823 - accuracy: 0.8454 - val_loss: 0.6472 - val_accuracy: 0.7833\n",
            "Epoch 77/100\n",
            "17/17 [==============================] - 0s 8ms/step - loss: 0.4783 - accuracy: 0.8472 - val_loss: 0.6445 - val_accuracy: 0.7833\n",
            "Epoch 78/100\n",
            "17/17 [==============================] - 0s 9ms/step - loss: 0.4743 - accuracy: 0.8481 - val_loss: 0.6414 - val_accuracy: 0.7917\n",
            "Epoch 79/100\n",
            "17/17 [==============================] - 0s 8ms/step - loss: 0.4703 - accuracy: 0.8472 - val_loss: 0.6392 - val_accuracy: 0.7917\n",
            "Epoch 80/100\n",
            "17/17 [==============================] - 0s 8ms/step - loss: 0.4665 - accuracy: 0.8500 - val_loss: 0.6353 - val_accuracy: 0.8000\n",
            "Epoch 81/100\n",
            "17/17 [==============================] - 0s 9ms/step - loss: 0.4621 - accuracy: 0.8519 - val_loss: 0.6322 - val_accuracy: 0.8000\n",
            "Epoch 82/100\n",
            "17/17 [==============================] - 0s 9ms/step - loss: 0.4582 - accuracy: 0.8546 - val_loss: 0.6291 - val_accuracy: 0.8000\n",
            "Epoch 83/100\n",
            "17/17 [==============================] - 0s 9ms/step - loss: 0.4547 - accuracy: 0.8556 - val_loss: 0.6263 - val_accuracy: 0.8000\n",
            "Epoch 84/100\n",
            "17/17 [==============================] - 0s 8ms/step - loss: 0.4508 - accuracy: 0.8574 - val_loss: 0.6215 - val_accuracy: 0.8000\n",
            "Epoch 85/100\n",
            "17/17 [==============================] - 0s 8ms/step - loss: 0.4474 - accuracy: 0.8565 - val_loss: 0.6191 - val_accuracy: 0.8000\n",
            "Epoch 86/100\n",
            "17/17 [==============================] - 0s 9ms/step - loss: 0.4437 - accuracy: 0.8574 - val_loss: 0.6150 - val_accuracy: 0.8000\n",
            "Epoch 87/100\n",
            "17/17 [==============================] - 0s 8ms/step - loss: 0.4400 - accuracy: 0.8593 - val_loss: 0.6119 - val_accuracy: 0.8083\n",
            "Epoch 88/100\n",
            "17/17 [==============================] - 0s 9ms/step - loss: 0.4366 - accuracy: 0.8593 - val_loss: 0.6084 - val_accuracy: 0.8083\n",
            "Epoch 89/100\n",
            "17/17 [==============================] - 0s 9ms/step - loss: 0.4331 - accuracy: 0.8630 - val_loss: 0.6047 - val_accuracy: 0.8083\n",
            "Epoch 90/100\n",
            "17/17 [==============================] - 0s 10ms/step - loss: 0.4296 - accuracy: 0.8602 - val_loss: 0.6025 - val_accuracy: 0.8083\n",
            "Epoch 91/100\n",
            "17/17 [==============================] - 0s 9ms/step - loss: 0.4264 - accuracy: 0.8648 - val_loss: 0.5987 - val_accuracy: 0.8083\n",
            "Epoch 92/100\n",
            "17/17 [==============================] - 0s 9ms/step - loss: 0.4232 - accuracy: 0.8620 - val_loss: 0.5966 - val_accuracy: 0.8083\n",
            "Epoch 93/100\n",
            "17/17 [==============================] - 0s 9ms/step - loss: 0.4198 - accuracy: 0.8630 - val_loss: 0.5944 - val_accuracy: 0.8083\n",
            "Epoch 94/100\n",
            "17/17 [==============================] - 0s 9ms/step - loss: 0.4168 - accuracy: 0.8639 - val_loss: 0.5913 - val_accuracy: 0.8083\n",
            "Epoch 95/100\n",
            "17/17 [==============================] - 0s 9ms/step - loss: 0.4139 - accuracy: 0.8639 - val_loss: 0.5902 - val_accuracy: 0.8083\n",
            "Epoch 96/100\n",
            "17/17 [==============================] - 0s 9ms/step - loss: 0.4106 - accuracy: 0.8685 - val_loss: 0.5876 - val_accuracy: 0.8083\n",
            "Epoch 97/100\n",
            "17/17 [==============================] - 0s 9ms/step - loss: 0.4076 - accuracy: 0.8657 - val_loss: 0.5848 - val_accuracy: 0.8083\n",
            "Epoch 98/100\n",
            "17/17 [==============================] - 0s 9ms/step - loss: 0.4046 - accuracy: 0.8667 - val_loss: 0.5824 - val_accuracy: 0.8083\n",
            "Epoch 99/100\n",
            "17/17 [==============================] - 0s 9ms/step - loss: 0.4013 - accuracy: 0.8704 - val_loss: 0.5796 - val_accuracy: 0.8083\n",
            "Epoch 100/100\n",
            "17/17 [==============================] - 0s 9ms/step - loss: 0.3982 - accuracy: 0.8722 - val_loss: 0.5776 - val_accuracy: 0.8167\n"
          ]
        }
      ],
      "source": [
        "train_dataset = tf.data.Dataset.from_tensor_slices((X_train, Y_train)).batch(64)\n",
        "test_dataset = tf.data.Dataset.from_tensor_slices((X_test, Y_test)).batch(64)\n",
        "history = conv_model.fit(train_dataset, epochs=100, validation_data=test_dataset)"
      ]
    },
    {
      "cell_type": "markdown",
      "metadata": {
        "id": "QskVpLIS-4sq"
      },
      "source": [
        "<a name='5'></a>\n",
        "## 5 - History Object \n",
        "\n",
        "The history object is an output of the `.fit()` operation, and provides a record of all the loss and metric values in memory. It's stored as a dictionary that you can retrieve at `history.history`: "
      ]
    },
    {
      "cell_type": "code",
      "execution_count": 14,
      "metadata": {
        "id": "3x3aEqDQ-4sq",
        "outputId": "00cbcbbf-9f62-497d-8433-e4412fd03415",
        "colab": {
          "base_uri": "https://localhost:8080/"
        }
      },
      "outputs": [
        {
          "output_type": "execute_result",
          "data": {
            "text/plain": [
              "{'loss': [1.795583963394165,\n",
              "  1.7815287113189697,\n",
              "  1.7734968662261963,\n",
              "  1.764426589012146,\n",
              "  1.7539597749710083,\n",
              "  1.7403665781021118,\n",
              "  1.7228533029556274,\n",
              "  1.7009100914001465,\n",
              "  1.6738380193710327,\n",
              "  1.6388508081436157,\n",
              "  1.5968669652938843,\n",
              "  1.5481657981872559,\n",
              "  1.4936665296554565,\n",
              "  1.4364688396453857,\n",
              "  1.3808835744857788,\n",
              "  1.3257824182510376,\n",
              "  1.2732964754104614,\n",
              "  1.22476065158844,\n",
              "  1.1803696155548096,\n",
              "  1.1400883197784424,\n",
              "  1.1027811765670776,\n",
              "  1.0680826902389526,\n",
              "  1.0357465744018555,\n",
              "  1.0065772533416748,\n",
              "  0.9793722629547119,\n",
              "  0.9538798928260803,\n",
              "  0.9310480356216431,\n",
              "  0.9092020392417908,\n",
              "  0.8895487785339355,\n",
              "  0.8703367114067078,\n",
              "  0.8536921739578247,\n",
              "  0.8377067446708679,\n",
              "  0.8213791251182556,\n",
              "  0.8073652386665344,\n",
              "  0.792203426361084,\n",
              "  0.7793596386909485,\n",
              "  0.7673159241676331,\n",
              "  0.7545775175094604,\n",
              "  0.7427039742469788,\n",
              "  0.7310270071029663,\n",
              "  0.7193631529808044,\n",
              "  0.709006130695343,\n",
              "  0.6983628273010254,\n",
              "  0.6886544823646545,\n",
              "  0.6788438558578491,\n",
              "  0.6689600944519043,\n",
              "  0.6607878804206848,\n",
              "  0.6516059637069702,\n",
              "  0.6439377069473267,\n",
              "  0.6352143883705139,\n",
              "  0.6283323168754578,\n",
              "  0.6202189922332764,\n",
              "  0.6131033897399902,\n",
              "  0.6055694818496704,\n",
              "  0.598770022392273,\n",
              "  0.5916099548339844,\n",
              "  0.585498034954071,\n",
              "  0.578796923160553,\n",
              "  0.572470486164093,\n",
              "  0.5660674571990967,\n",
              "  0.5604612827301025,\n",
              "  0.5541679263114929,\n",
              "  0.548259437084198,\n",
              "  0.5424557328224182,\n",
              "  0.5369623303413391,\n",
              "  0.5313361883163452,\n",
              "  0.5259725451469421,\n",
              "  0.5200459361076355,\n",
              "  0.5147812366485596,\n",
              "  0.5098809599876404,\n",
              "  0.5049591660499573,\n",
              "  0.5001283884048462,\n",
              "  0.49554958939552307,\n",
              "  0.4912450611591339,\n",
              "  0.4865362048149109,\n",
              "  0.4822928011417389,\n",
              "  0.47826215624809265,\n",
              "  0.4742623269557953,\n",
              "  0.4702743887901306,\n",
              "  0.4665360152721405,\n",
              "  0.4620768129825592,\n",
              "  0.4581678509712219,\n",
              "  0.4546893239021301,\n",
              "  0.45081233978271484,\n",
              "  0.4473743736743927,\n",
              "  0.4437307119369507,\n",
              "  0.44004499912261963,\n",
              "  0.4366190731525421,\n",
              "  0.4331147372722626,\n",
              "  0.4295784831047058,\n",
              "  0.4263637363910675,\n",
              "  0.42316633462905884,\n",
              "  0.4198160171508789,\n",
              "  0.41677606105804443,\n",
              "  0.41387906670570374,\n",
              "  0.4106001853942871,\n",
              "  0.40762853622436523,\n",
              "  0.4045858681201935,\n",
              "  0.4013378918170929,\n",
              "  0.39819931983947754],\n",
              " 'accuracy': [0.17314815521240234,\n",
              "  0.22499999403953552,\n",
              "  0.260185182094574,\n",
              "  0.2888889014720917,\n",
              "  0.3046296238899231,\n",
              "  0.37037035822868347,\n",
              "  0.4000000059604645,\n",
              "  0.4416666626930237,\n",
              "  0.4583333432674408,\n",
              "  0.47870370745658875,\n",
              "  0.4962962865829468,\n",
              "  0.5138888955116272,\n",
              "  0.529629647731781,\n",
              "  0.5453703999519348,\n",
              "  0.5574073791503906,\n",
              "  0.5759259462356567,\n",
              "  0.5925925970077515,\n",
              "  0.6000000238418579,\n",
              "  0.6175925731658936,\n",
              "  0.6296296119689941,\n",
              "  0.6425926089286804,\n",
              "  0.6518518328666687,\n",
              "  0.6592592597007751,\n",
              "  0.6685185432434082,\n",
              "  0.6777777671813965,\n",
              "  0.6851851940155029,\n",
              "  0.6962962746620178,\n",
              "  0.6972222328186035,\n",
              "  0.7064814567565918,\n",
              "  0.7157407402992249,\n",
              "  0.7175925970077515,\n",
              "  0.7287036776542664,\n",
              "  0.7324073910713196,\n",
              "  0.7351852059364319,\n",
              "  0.7342592477798462,\n",
              "  0.7379629611968994,\n",
              "  0.7444444298744202,\n",
              "  0.7518518567085266,\n",
              "  0.7546296119689941,\n",
              "  0.7537037134170532,\n",
              "  0.7574074268341064,\n",
              "  0.7620370388031006,\n",
              "  0.7611111402511597,\n",
              "  0.7666666507720947,\n",
              "  0.7657407522201538,\n",
              "  0.7731481194496155,\n",
              "  0.7777777910232544,\n",
              "  0.7814815044403076,\n",
              "  0.7833333611488342,\n",
              "  0.7907407283782959,\n",
              "  0.7916666865348816,\n",
              "  0.7935185432434082,\n",
              "  0.7981481552124023,\n",
              "  0.8037037253379822,\n",
              "  0.8037037253379822,\n",
              "  0.8018518686294556,\n",
              "  0.8055555820465088,\n",
              "  0.8074073791503906,\n",
              "  0.8092592358589172,\n",
              "  0.8092592358589172,\n",
              "  0.8120370507240295,\n",
              "  0.8157407641410828,\n",
              "  0.8175926208496094,\n",
              "  0.8194444179534912,\n",
              "  0.8259259462356567,\n",
              "  0.8259259462356567,\n",
              "  0.8314814567565918,\n",
              "  0.8314814567565918,\n",
              "  0.8361111283302307,\n",
              "  0.8361111283302307,\n",
              "  0.8388888835906982,\n",
              "  0.8407407402992249,\n",
              "  0.8416666388511658,\n",
              "  0.8435184955596924,\n",
              "  0.8416666388511658,\n",
              "  0.845370352268219,\n",
              "  0.8472222089767456,\n",
              "  0.8481481671333313,\n",
              "  0.8472222089767456,\n",
              "  0.8500000238418579,\n",
              "  0.8518518805503845,\n",
              "  0.854629635810852,\n",
              "  0.855555534362793,\n",
              "  0.8574073910713196,\n",
              "  0.8564814925193787,\n",
              "  0.8574073910713196,\n",
              "  0.8592592477798462,\n",
              "  0.8592592477798462,\n",
              "  0.8629629611968994,\n",
              "  0.8601852059364319,\n",
              "  0.864814817905426,\n",
              "  0.8620370626449585,\n",
              "  0.8629629611968994,\n",
              "  0.8638888597488403,\n",
              "  0.8638888597488403,\n",
              "  0.8685185313224792,\n",
              "  0.8657407164573669,\n",
              "  0.8666666746139526,\n",
              "  0.8703703880310059,\n",
              "  0.8722222447395325],\n",
              " 'val_loss': [1.7909611463546753,\n",
              "  1.7855428457260132,\n",
              "  1.780290126800537,\n",
              "  1.773475170135498,\n",
              "  1.7647682428359985,\n",
              "  1.7542388439178467,\n",
              "  1.7405346632003784,\n",
              "  1.7232935428619385,\n",
              "  1.699862003326416,\n",
              "  1.6697921752929688,\n",
              "  1.6324399709701538,\n",
              "  1.5881950855255127,\n",
              "  1.5359721183776855,\n",
              "  1.4852701425552368,\n",
              "  1.4318599700927734,\n",
              "  1.3809562921524048,\n",
              "  1.329972505569458,\n",
              "  1.286704659461975,\n",
              "  1.2459667921066284,\n",
              "  1.2087198495864868,\n",
              "  1.1749943494796753,\n",
              "  1.1436375379562378,\n",
              "  1.1146024465560913,\n",
              "  1.0877346992492676,\n",
              "  1.0646452903747559,\n",
              "  1.0419554710388184,\n",
              "  1.0221372842788696,\n",
              "  1.002814769744873,\n",
              "  0.986484706401825,\n",
              "  0.9700431823730469,\n",
              "  0.9530326724052429,\n",
              "  0.939690351486206,\n",
              "  0.924284040927887,\n",
              "  0.9129927158355713,\n",
              "  0.8999592065811157,\n",
              "  0.887164294719696,\n",
              "  0.8767414689064026,\n",
              "  0.8657869696617126,\n",
              "  0.8536568880081177,\n",
              "  0.8455174565315247,\n",
              "  0.8360158205032349,\n",
              "  0.827721357345581,\n",
              "  0.8165592551231384,\n",
              "  0.8092954158782959,\n",
              "  0.8005360960960388,\n",
              "  0.7934795618057251,\n",
              "  0.7860842347145081,\n",
              "  0.7777160406112671,\n",
              "  0.7705466151237488,\n",
              "  0.7623975872993469,\n",
              "  0.756707489490509,\n",
              "  0.7483587265014648,\n",
              "  0.7426697015762329,\n",
              "  0.7355592846870422,\n",
              "  0.7315263152122498,\n",
              "  0.7240009307861328,\n",
              "  0.7214040756225586,\n",
              "  0.715442419052124,\n",
              "  0.7119814157485962,\n",
              "  0.7058531641960144,\n",
              "  0.7039421200752258,\n",
              "  0.6978326439857483,\n",
              "  0.6959221959114075,\n",
              "  0.6908828020095825,\n",
              "  0.6875494718551636,\n",
              "  0.6821672916412354,\n",
              "  0.6792898774147034,\n",
              "  0.6725385189056396,\n",
              "  0.6715121865272522,\n",
              "  0.6657758951187134,\n",
              "  0.6646274328231812,\n",
              "  0.6606537103652954,\n",
              "  0.6581810116767883,\n",
              "  0.6537378430366516,\n",
              "  0.6511769890785217,\n",
              "  0.647213339805603,\n",
              "  0.6444677114486694,\n",
              "  0.6413710713386536,\n",
              "  0.6391611099243164,\n",
              "  0.6352915167808533,\n",
              "  0.6322092413902283,\n",
              "  0.6290664672851562,\n",
              "  0.6263065338134766,\n",
              "  0.6215470433235168,\n",
              "  0.6191225647926331,\n",
              "  0.6150028705596924,\n",
              "  0.6118954420089722,\n",
              "  0.6083738803863525,\n",
              "  0.604687511920929,\n",
              "  0.6024705171585083,\n",
              "  0.5987287163734436,\n",
              "  0.5966164469718933,\n",
              "  0.5944129824638367,\n",
              "  0.5913016200065613,\n",
              "  0.5902213454246521,\n",
              "  0.5875726342201233,\n",
              "  0.5848453044891357,\n",
              "  0.5823838710784912,\n",
              "  0.579643189907074,\n",
              "  0.5775659680366516],\n",
              " 'val_accuracy': [0.19166666269302368,\n",
              "  0.20000000298023224,\n",
              "  0.24166665971279144,\n",
              "  0.25,\n",
              "  0.2666666805744171,\n",
              "  0.3083333373069763,\n",
              "  0.40833333134651184,\n",
              "  0.4166666567325592,\n",
              "  0.44999998807907104,\n",
              "  0.4333333373069763,\n",
              "  0.46666666865348816,\n",
              "  0.4833333194255829,\n",
              "  0.4833333194255829,\n",
              "  0.4833333194255829,\n",
              "  0.5083333253860474,\n",
              "  0.5249999761581421,\n",
              "  0.5333333611488342,\n",
              "  0.550000011920929,\n",
              "  0.5583333373069763,\n",
              "  0.5666666626930237,\n",
              "  0.5833333134651184,\n",
              "  0.6000000238418579,\n",
              "  0.6083333492279053,\n",
              "  0.6083333492279053,\n",
              "  0.6083333492279053,\n",
              "  0.6083333492279053,\n",
              "  0.6166666746139526,\n",
              "  0.625,\n",
              "  0.6333333253860474,\n",
              "  0.6499999761581421,\n",
              "  0.6499999761581421,\n",
              "  0.6583333611488342,\n",
              "  0.6583333611488342,\n",
              "  0.6583333611488342,\n",
              "  0.6833333373069763,\n",
              "  0.675000011920929,\n",
              "  0.6916666626930237,\n",
              "  0.6916666626930237,\n",
              "  0.7083333134651184,\n",
              "  0.7166666388511658,\n",
              "  0.7166666388511658,\n",
              "  0.7166666388511658,\n",
              "  0.7166666388511658,\n",
              "  0.7166666388511658,\n",
              "  0.7250000238418579,\n",
              "  0.7416666746139526,\n",
              "  0.75,\n",
              "  0.7583333253860474,\n",
              "  0.75,\n",
              "  0.7666666507720947,\n",
              "  0.7666666507720947,\n",
              "  0.7666666507720947,\n",
              "  0.7666666507720947,\n",
              "  0.7666666507720947,\n",
              "  0.7666666507720947,\n",
              "  0.7666666507720947,\n",
              "  0.7666666507720947,\n",
              "  0.7666666507720947,\n",
              "  0.7666666507720947,\n",
              "  0.7666666507720947,\n",
              "  0.7749999761581421,\n",
              "  0.7833333611488342,\n",
              "  0.7749999761581421,\n",
              "  0.7833333611488342,\n",
              "  0.7916666865348816,\n",
              "  0.7916666865348816,\n",
              "  0.800000011920929,\n",
              "  0.7916666865348816,\n",
              "  0.800000011920929,\n",
              "  0.800000011920929,\n",
              "  0.800000011920929,\n",
              "  0.800000011920929,\n",
              "  0.800000011920929,\n",
              "  0.800000011920929,\n",
              "  0.800000011920929,\n",
              "  0.7833333611488342,\n",
              "  0.7833333611488342,\n",
              "  0.7916666865348816,\n",
              "  0.7916666865348816,\n",
              "  0.800000011920929,\n",
              "  0.800000011920929,\n",
              "  0.800000011920929,\n",
              "  0.800000011920929,\n",
              "  0.800000011920929,\n",
              "  0.800000011920929,\n",
              "  0.800000011920929,\n",
              "  0.8083333373069763,\n",
              "  0.8083333373069763,\n",
              "  0.8083333373069763,\n",
              "  0.8083333373069763,\n",
              "  0.8083333373069763,\n",
              "  0.8083333373069763,\n",
              "  0.8083333373069763,\n",
              "  0.8083333373069763,\n",
              "  0.8083333373069763,\n",
              "  0.8083333373069763,\n",
              "  0.8083333373069763,\n",
              "  0.8083333373069763,\n",
              "  0.8083333373069763,\n",
              "  0.8166666626930237]}"
            ]
          },
          "metadata": {},
          "execution_count": 14
        }
      ],
      "source": [
        "history.history"
      ]
    },
    {
      "cell_type": "markdown",
      "metadata": {
        "id": "Fys0MJPb-4sq"
      },
      "source": [
        "Now visualize the loss over time using `history.history`: "
      ]
    },
    {
      "cell_type": "code",
      "execution_count": 15,
      "metadata": {
        "id": "q29hxaSS-4sr",
        "outputId": "87ab2bcd-4a17-4280-fd0b-c163746eb64c",
        "colab": {
          "base_uri": "https://localhost:8080/",
          "height": 1000
        }
      },
      "outputs": [
        {
          "output_type": "stream",
          "name": "stderr",
          "text": [
            "/usr/local/lib/python3.8/dist-packages/pandas/core/frame.py:5039: SettingWithCopyWarning: \n",
            "A value is trying to be set on a copy of a slice from a DataFrame\n",
            "\n",
            "See the caveats in the documentation: https://pandas.pydata.org/pandas-docs/stable/user_guide/indexing.html#returning-a-view-versus-a-copy\n",
            "  return super().rename(\n"
          ]
        },
        {
          "output_type": "execute_result",
          "data": {
            "text/plain": [
              "[Text(0, 0.5, 'Accuracy'), Text(0.5, 0, 'Epoch')]"
            ]
          },
          "metadata": {},
          "execution_count": 15
        },
        {
          "output_type": "display_data",
          "data": {
            "text/plain": [
              "<Figure size 864x576 with 1 Axes>"
            ],
            "image/png": "[encoded data removed]"
          },
          "metadata": {
            "needs_background": "light"
          }
        },
        {
          "output_type": "display_data",
          "data": {
            "text/plain": [
              "<Figure size 864x576 with 1 Axes>"
            ],
            "image/png": "[encoded data removed]"
          },
          "metadata": {
            "needs_background": "light"
          }
        }
      ],
      "source": [
        "# The history.history[\"loss\"] entry is a dictionary with as many values as epochs that the\n",
        "# model was trained on. \n",
        "df_loss_acc = pd.DataFrame(history.history)\n",
        "df_loss= df_loss_acc[['loss','val_loss']]\n",
        "df_loss.rename(columns={'loss':'train','val_loss':'validation'},inplace=True)\n",
        "df_acc= df_loss_acc[['accuracy','val_accuracy']]\n",
        "df_acc.rename(columns={'accuracy':'train','val_accuracy':'validation'},inplace=True)\n",
        "df_loss.plot(title='Model loss',figsize=(12,8)).set(xlabel='Epoch',ylabel='Loss')\n",
        "df_acc.plot(title='Model Accuracy',figsize=(12,8)).set(xlabel='Epoch',ylabel='Accuracy')"
      ]
    },
    {
      "cell_type": "markdown",
      "metadata": {
        "id": "dQ9yvukd-4sr"
      },
      "source": [
        "**Congratulations**! You've finished the assignment and built two models: One that recognizes  smiles, and another that recognizes SIGN language with almost 80% accuracy on the test set. In addition to that, you now also understand the applications of two Keras APIs: Sequential and Functional. Nicely done! \n",
        "\n",
        "By now, you know a bit about how the Functional API works and may have glimpsed the possibilities. In your next assignment, you'll really get a feel for its power when you get the opportunity to build a very deep ConvNet, using ResNets! "
      ]
    },
    {
      "cell_type": "code",
      "execution_count": null,
      "metadata": {
        "id": "YoK8PiPY-4sr",
        "outputId": "39e72676-4892-4770-970d-3ffb67faf93e"
      },
      "outputs": [
        {
          "name": "stdout",
          "output_type": "stream",
          "text": [
            "<BatchDataset shapes: ((None, 64, 64, 3), (None, 6)), types: (tf.float64, tf.float64)>\n"
          ]
        }
      ],
      "source": [
        "arr = np.array(train_dataset)\n",
        "print(arr)"
      ]
    },
    {
      "cell_type": "markdown",
      "metadata": {
        "id": "Q5RM6Sj6-4sr"
      },
      "source": [
        "<a name='6'></a>\n",
        "## 6 - Bibliography\n",
        "\n",
        "You're always encouraged to read the official documentation. To that end, you can find the docs for the Sequential and Functional APIs here: \n",
        "\n",
        "https://www.tensorflow.org/guide/keras/sequential_model\n",
        "\n",
        "https://www.tensorflow.org/guide/keras/functional"
      ]
    }
  ],
  "metadata": {
    "coursera": {
      "course_slug": "convolutional-neural-networks",
      "graded_item_id": "bwbJV",
      "launcher_item_id": "0TkXB"
    },
    "kernelspec": {
      "display_name": "Python 3.7.6 64-bit",
      "language": "python",
      "name": "python3"
    },
    "language_info": {
      "codemirror_mode": {
        "name": "ipython",
        "version": 3
      },
      "file_extension": ".py",
      "mimetype": "text/x-python",
      "name": "python",
      "nbconvert_exporter": "python",
      "pygments_lexer": "ipython3",
      "version": "3.7.6"
    },
    "vscode": {
      "interpreter": {
        "hash": "5109d816b82be14675a6b11f8e0f0d2e80f029176ed3710d54e125caa8520dfd"
      }
    },
    "colab": {
      "provenance": [],
      "include_colab_link": true
    },
    "accelerator": "GPU",
    "gpuClass": "standard"
  },
  "nbformat": 4,
  "nbformat_minor": 0
}